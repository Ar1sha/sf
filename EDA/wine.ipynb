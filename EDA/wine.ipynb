{
  "cells": [
    {
      "cell_type": "markdown",
      "metadata": {},
      "source": [
        "## Винные обзоры"
      ]
    },
    {
      "cell_type": "code",
      "execution_count": 1,
      "metadata": {},
      "outputs": [],
      "source": [
        "# импортируем необходимые пакеты\n",
        "\n",
        "import pandas as pd\n",
        "import seaborn as sns"
      ]
    },
    {
      "cell_type": "code",
      "execution_count": 3,
      "metadata": {},
      "outputs": [
        {
          "name": "stderr",
          "output_type": "stream",
          "text": [
            "<>:1: SyntaxWarning: invalid escape sequence '\\V'\n",
            "<>:1: SyntaxWarning: invalid escape sequence '\\V'\n",
            "C:\\Users\\arinathebest\\AppData\\Local\\Temp\\ipykernel_8324\\3929429722.py:1: SyntaxWarning: invalid escape sequence '\\V'\n",
            "  df = pd.read_csv('C:\\VS CODE\\GIT\\sf-1\\EDA\\wine.csv', sep=',') # чтение данных\n"
          ]
        }
      ],
      "source": [
        "df = pd.read_csv('C:\\VS CODE\\GIT\\sf-1\\EDA\\wine.csv', sep=',') # чтение данных"
      ]
    },
    {
      "cell_type": "markdown",
      "metadata": {},
      "source": [
        "### Задание 5.1"
      ]
    },
    {
      "cell_type": "markdown",
      "metadata": {},
      "source": [
        "Составьте чек-лист всех этапов жизненного цикла модели машинного обучения для создания ИИ-сомелье. \n",
        "Подробно раскройте процесс разведывательного анализа данных с подэтапами. \n"
      ]
    },
    {
      "cell_type": "markdown",
      "metadata": {},
      "source": [
        "* Определение бизнес-проблемы\n",
        "* Сбор данных\n",
        "* Очистка данных от пропусков/выбросов/аномалий\n",
        "* Разведывательный анализ данных\n",
        "    + проектирование признаков (генерация из внешних источников данных, из признаков датасета)\n",
        "    + кодирование признаков\n",
        "    + проверка статистических гипотез\n",
        "    + отбор признаков\n",
        "* Разработка модели\n",
        "* Вывод модели в продакшн\n"
      ]
    },
    {
      "cell_type": "markdown",
      "metadata": {},
      "source": [
        "### Задание 5.2"
      ]
    },
    {
      "cell_type": "markdown",
      "metadata": {},
      "source": [
        "Проанализируйте представленный датасет и перечислите все числовые признаки"
      ]
    },
    {
      "cell_type": "code",
      "execution_count": null,
      "metadata": {},
      "outputs": [],
      "source": [
        "df.nunique() # смотрим на кол-во уникальных признаков"
      ]
    },
    {
      "cell_type": "code",
      "execution_count": null,
      "metadata": {},
      "outputs": [],
      "source": [
        "df.info() # посмотрим на типы признаков. Претендента всего 2: points, price"
      ]
    },
    {
      "cell_type": "markdown",
      "metadata": {},
      "source": [
        "Смотрим на описание признаков и на распределение, чтобы точно убедиться, что они числовые:"
      ]
    },
    {
      "cell_type": "code",
      "execution_count": 4,
      "metadata": {},
      "outputs": [
        {
          "data": {
            "text/plain": [
              "array([[<Axes: title={'center': 'points'}>,\n",
              "        <Axes: title={'center': 'price'}>]], dtype=object)"
            ]
          },
          "execution_count": 4,
          "metadata": {},
          "output_type": "execute_result"
        },
        {
          "data": {
            "image/png": "[encoded data removed]",
            "text/plain": [
              "<Figure size 640x480 with 2 Axes>"
            ]
          },
          "metadata": {},
          "output_type": "display_data"
        }
      ],
      "source": [
        "# построим распеределение всех возможных признаков быстрой просто визуализацией\n",
        "hist = df.hist()\n",
        "hist"
      ]
    },
    {
      "cell_type": "markdown",
      "metadata": {},
      "source": [
        "Ответ: points, price"
      ]
    },
    {
      "cell_type": "markdown",
      "metadata": {},
      "source": [
        "### Задание 5.3"
      ]
    },
    {
      "cell_type": "markdown",
      "metadata": {},
      "source": [
        "Проанализируйте датасет на наличие дублирующихся винных обзоров. Если дублирующиеся записи есть, удалите их. \n",
        "В поле ниже введите, сколько дублирующихся записей вам удалось обнаружить. \n"
      ]
    },
    {
      "cell_type": "code",
      "execution_count": 5,
      "metadata": {},
      "outputs": [
        {
          "name": "stdout",
          "output_type": "stream",
          "text": [
            "Число найденных дубликатов: 9983\n"
          ]
        }
      ],
      "source": [
        "mask = df.duplicated(subset=df.columns) # маска для фильтрации\n",
        "data_duplicates = df[mask] # фильтруем наш датасет\n",
        "print(f'Число найденных дубликатов: {data_duplicates.shape[0]}')\n",
        "df = df.drop_duplicates()"
      ]
    },
    {
      "cell_type": "markdown",
      "metadata": {},
      "source": [
        "### Задание 5.4"
      ]
    },
    {
      "cell_type": "markdown",
      "metadata": {},
      "source": [
        "Проверьте датасет на наличие пропусков в данных.\n",
        "В каких из представленных признаках были обнаружены пропуски?\n"
      ]
    },
    {
      "cell_type": "code",
      "execution_count": 11,
      "metadata": {},
      "outputs": [
        {
          "name": "stdout",
          "output_type": "stream",
          "text": [
            "<class 'pandas.core.frame.DataFrame'>\n",
            "RangeIndex: 129971 entries, 0 to 129970\n",
            "Data columns (total 12 columns):\n",
            " #   Column                 Non-Null Count   Dtype  \n",
            "---  ------                 --------------   -----  \n",
            " 0   country                129971 non-null  object \n",
            " 1   description            129971 non-null  object \n",
            " 2   designation            129971 non-null  object \n",
            " 3   points                 129971 non-null  int64  \n",
            " 4   price                  129971 non-null  float64\n",
            " 5   province               129971 non-null  object \n",
            " 6   region_1               129971 non-null  object \n",
            " 7   taster_name            129971 non-null  object \n",
            " 8   taster_twitter_handle  129971 non-null  object \n",
            " 9   title                  129971 non-null  object \n",
            " 10  variety                129971 non-null  object \n",
            " 11  winery                 129971 non-null  object \n",
            "dtypes: float64(1), int64(1), object(10)\n",
            "memory usage: 11.9+ MB\n"
          ]
        }
      ],
      "source": [
        "df.info() # смотрим краткую информацию о наборе данных и даем ответ"
      ]
    },
    {
      "cell_type": "markdown",
      "metadata": {},
      "source": [
        "### Задание 5.5"
      ]
    },
    {
      "cell_type": "markdown",
      "metadata": {},
      "source": [
        "Обработайте пропущенные значения в наборе данных любым известным вам способом, который вы изучили в  PYTHON-14. Очистка данных:\n",
        "\n",
        "Воспользуйтесь правилами:\n",
        "    \n",
        "+ Если какой-то из признаков имеет более 30-40 % пропусков, лучше избавьтесь от него: его заполнение может привести к сильному искажению общего распределения, а удаление записей — к большой утрате данных.\n",
        "+ Заполняйте данные с умом! Если перед вами количественный признак, то использование нецелого числа в качестве константы является как минимум нелогичным.\n",
        "+ Вы можете оставить пропуски как есть, просто заменив их на какой-то специальный символ. Например, для числовых неотрицательных признаков можно использовать число -1, а для категориальных — строку 'unknown'.\n"
      ]
    },
    {
      "cell_type": "code",
      "execution_count": 6,
      "metadata": {},
      "outputs": [
        {
          "data": {
            "text/plain": [
              "<Axes: >"
            ]
          },
          "execution_count": 6,
          "metadata": {},
          "output_type": "execute_result"
        },
        {
          "data": {
            "image/png": "[encoded data removed]",
            "text/plain": [
              "<Figure size 640x480 with 2 Axes>"
            ]
          },
          "metadata": {},
          "output_type": "display_data"
        }
      ],
      "source": [
        "sns.heatmap(df.isnull()) # наглядная карта пропусков"
      ]
    },
    {
      "cell_type": "code",
      "execution_count": null,
      "metadata": {},
      "outputs": [],
      "source": [
        "df = df.drop(['region_2'], axis=1) # имеет порядка 60% пропусков, лучше избавиться от такого признака"
      ]
    },
    {
      "cell_type": "code",
      "execution_count": null,
      "metadata": {},
      "outputs": [],
      "source": [
        "sns.heatmap(df.isnull()) # смотрим, какие признаки остались"
      ]
    },
    {
      "cell_type": "code",
      "execution_count": null,
      "metadata": {},
      "outputs": [],
      "source": [
        "df.head()"
      ]
    },
    {
      "cell_type": "code",
      "execution_count": 10,
      "metadata": {},
      "outputs": [
        {
          "data": {
            "text/html": [
              "<div>\n",
              "<style scoped>\n",
              "    .dataframe tbody tr th:only-of-type {\n",
              "        vertical-align: middle;\n",
              "    }\n",
              "\n",
              "    .dataframe tbody tr th {\n",
              "        vertical-align: top;\n",
              "    }\n",
              "\n",
              "    .dataframe thead th {\n",
              "        text-align: right;\n",
              "    }\n",
              "</style>\n",
              "<table border=\"1\" class=\"dataframe\">\n",
              "  <thead>\n",
              "    <tr style=\"text-align: right;\">\n",
              "      <th></th>\n",
              "      <th>country</th>\n",
              "      <th>description</th>\n",
              "      <th>designation</th>\n",
              "      <th>points</th>\n",
              "      <th>price</th>\n",
              "      <th>province</th>\n",
              "      <th>region_1</th>\n",
              "      <th>taster_name</th>\n",
              "      <th>taster_twitter_handle</th>\n",
              "      <th>title</th>\n",
              "      <th>variety</th>\n",
              "      <th>winery</th>\n",
              "    </tr>\n",
              "  </thead>\n",
              "  <tbody>\n",
              "    <tr>\n",
              "      <th>count</th>\n",
              "      <td>129971</td>\n",
              "      <td>129971</td>\n",
              "      <td>129971</td>\n",
              "      <td>129971.000000</td>\n",
              "      <td>129971.000000</td>\n",
              "      <td>129971</td>\n",
              "      <td>129971</td>\n",
              "      <td>129971</td>\n",
              "      <td>129971</td>\n",
              "      <td>129971</td>\n",
              "      <td>129971</td>\n",
              "      <td>129971</td>\n",
              "    </tr>\n",
              "    <tr>\n",
              "      <th>unique</th>\n",
              "      <td>44</td>\n",
              "      <td>119955</td>\n",
              "      <td>37980</td>\n",
              "      <td>NaN</td>\n",
              "      <td>NaN</td>\n",
              "      <td>426</td>\n",
              "      <td>1230</td>\n",
              "      <td>20</td>\n",
              "      <td>16</td>\n",
              "      <td>118840</td>\n",
              "      <td>708</td>\n",
              "      <td>16757</td>\n",
              "    </tr>\n",
              "    <tr>\n",
              "      <th>top</th>\n",
              "      <td>US</td>\n",
              "      <td>Seductively tart in lemon pith, cranberry and ...</td>\n",
              "      <td>unknown</td>\n",
              "      <td>NaN</td>\n",
              "      <td>NaN</td>\n",
              "      <td>California</td>\n",
              "      <td>unknown</td>\n",
              "      <td>unknown</td>\n",
              "      <td>unknown</td>\n",
              "      <td>Gloria Ferrer NV Sonoma Brut Sparkling (Sonoma...</td>\n",
              "      <td>Pinot Noir</td>\n",
              "      <td>Wines &amp; Winemakers</td>\n",
              "    </tr>\n",
              "    <tr>\n",
              "      <th>freq</th>\n",
              "      <td>54504</td>\n",
              "      <td>3</td>\n",
              "      <td>37465</td>\n",
              "      <td>NaN</td>\n",
              "      <td>NaN</td>\n",
              "      <td>36247</td>\n",
              "      <td>21247</td>\n",
              "      <td>26244</td>\n",
              "      <td>31213</td>\n",
              "      <td>11</td>\n",
              "      <td>13272</td>\n",
              "      <td>222</td>\n",
              "    </tr>\n",
              "    <tr>\n",
              "      <th>mean</th>\n",
              "      <td>NaN</td>\n",
              "      <td>NaN</td>\n",
              "      <td>NaN</td>\n",
              "      <td>88.447138</td>\n",
              "      <td>32.846481</td>\n",
              "      <td>NaN</td>\n",
              "      <td>NaN</td>\n",
              "      <td>NaN</td>\n",
              "      <td>NaN</td>\n",
              "      <td>NaN</td>\n",
              "      <td>NaN</td>\n",
              "      <td>NaN</td>\n",
              "    </tr>\n",
              "    <tr>\n",
              "      <th>std</th>\n",
              "      <td>NaN</td>\n",
              "      <td>NaN</td>\n",
              "      <td>NaN</td>\n",
              "      <td>3.039730</td>\n",
              "      <td>40.639061</td>\n",
              "      <td>NaN</td>\n",
              "      <td>NaN</td>\n",
              "      <td>NaN</td>\n",
              "      <td>NaN</td>\n",
              "      <td>NaN</td>\n",
              "      <td>NaN</td>\n",
              "      <td>NaN</td>\n",
              "    </tr>\n",
              "    <tr>\n",
              "      <th>min</th>\n",
              "      <td>NaN</td>\n",
              "      <td>NaN</td>\n",
              "      <td>NaN</td>\n",
              "      <td>80.000000</td>\n",
              "      <td>-1.000000</td>\n",
              "      <td>NaN</td>\n",
              "      <td>NaN</td>\n",
              "      <td>NaN</td>\n",
              "      <td>NaN</td>\n",
              "      <td>NaN</td>\n",
              "      <td>NaN</td>\n",
              "      <td>NaN</td>\n",
              "    </tr>\n",
              "    <tr>\n",
              "      <th>25%</th>\n",
              "      <td>NaN</td>\n",
              "      <td>NaN</td>\n",
              "      <td>NaN</td>\n",
              "      <td>86.000000</td>\n",
              "      <td>15.000000</td>\n",
              "      <td>NaN</td>\n",
              "      <td>NaN</td>\n",
              "      <td>NaN</td>\n",
              "      <td>NaN</td>\n",
              "      <td>NaN</td>\n",
              "      <td>NaN</td>\n",
              "      <td>NaN</td>\n",
              "    </tr>\n",
              "    <tr>\n",
              "      <th>50%</th>\n",
              "      <td>NaN</td>\n",
              "      <td>NaN</td>\n",
              "      <td>NaN</td>\n",
              "      <td>88.000000</td>\n",
              "      <td>25.000000</td>\n",
              "      <td>NaN</td>\n",
              "      <td>NaN</td>\n",
              "      <td>NaN</td>\n",
              "      <td>NaN</td>\n",
              "      <td>NaN</td>\n",
              "      <td>NaN</td>\n",
              "      <td>NaN</td>\n",
              "    </tr>\n",
              "    <tr>\n",
              "      <th>75%</th>\n",
              "      <td>NaN</td>\n",
              "      <td>NaN</td>\n",
              "      <td>NaN</td>\n",
              "      <td>91.000000</td>\n",
              "      <td>40.000000</td>\n",
              "      <td>NaN</td>\n",
              "      <td>NaN</td>\n",
              "      <td>NaN</td>\n",
              "      <td>NaN</td>\n",
              "      <td>NaN</td>\n",
              "      <td>NaN</td>\n",
              "      <td>NaN</td>\n",
              "    </tr>\n",
              "    <tr>\n",
              "      <th>max</th>\n",
              "      <td>NaN</td>\n",
              "      <td>NaN</td>\n",
              "      <td>NaN</td>\n",
              "      <td>100.000000</td>\n",
              "      <td>3300.000000</td>\n",
              "      <td>NaN</td>\n",
              "      <td>NaN</td>\n",
              "      <td>NaN</td>\n",
              "      <td>NaN</td>\n",
              "      <td>NaN</td>\n",
              "      <td>NaN</td>\n",
              "      <td>NaN</td>\n",
              "    </tr>\n",
              "  </tbody>\n",
              "</table>\n",
              "</div>"
            ],
            "text/plain": [
              "       country                                        description designation  \\\n",
              "count   129971                                             129971      129971   \n",
              "unique      44                                             119955       37980   \n",
              "top         US  Seductively tart in lemon pith, cranberry and ...     unknown   \n",
              "freq     54504                                                  3       37465   \n",
              "mean       NaN                                                NaN         NaN   \n",
              "std        NaN                                                NaN         NaN   \n",
              "min        NaN                                                NaN         NaN   \n",
              "25%        NaN                                                NaN         NaN   \n",
              "50%        NaN                                                NaN         NaN   \n",
              "75%        NaN                                                NaN         NaN   \n",
              "max        NaN                                                NaN         NaN   \n",
              "\n",
              "               points          price    province region_1 taster_name  \\\n",
              "count   129971.000000  129971.000000      129971   129971      129971   \n",
              "unique            NaN            NaN         426     1230          20   \n",
              "top               NaN            NaN  California  unknown     unknown   \n",
              "freq              NaN            NaN       36247    21247       26244   \n",
              "mean        88.447138      32.846481         NaN      NaN         NaN   \n",
              "std          3.039730      40.639061         NaN      NaN         NaN   \n",
              "min         80.000000      -1.000000         NaN      NaN         NaN   \n",
              "25%         86.000000      15.000000         NaN      NaN         NaN   \n",
              "50%         88.000000      25.000000         NaN      NaN         NaN   \n",
              "75%         91.000000      40.000000         NaN      NaN         NaN   \n",
              "max        100.000000    3300.000000         NaN      NaN         NaN   \n",
              "\n",
              "       taster_twitter_handle  \\\n",
              "count                 129971   \n",
              "unique                    16   \n",
              "top                  unknown   \n",
              "freq                   31213   \n",
              "mean                     NaN   \n",
              "std                      NaN   \n",
              "min                      NaN   \n",
              "25%                      NaN   \n",
              "50%                      NaN   \n",
              "75%                      NaN   \n",
              "max                      NaN   \n",
              "\n",
              "                                                    title     variety  \\\n",
              "count                                              129971      129971   \n",
              "unique                                             118840         708   \n",
              "top     Gloria Ferrer NV Sonoma Brut Sparkling (Sonoma...  Pinot Noir   \n",
              "freq                                                   11       13272   \n",
              "mean                                                  NaN         NaN   \n",
              "std                                                   NaN         NaN   \n",
              "min                                                   NaN         NaN   \n",
              "25%                                                   NaN         NaN   \n",
              "50%                                                   NaN         NaN   \n",
              "75%                                                   NaN         NaN   \n",
              "max                                                   NaN         NaN   \n",
              "\n",
              "                    winery  \n",
              "count               129971  \n",
              "unique               16757  \n",
              "top     Wines & Winemakers  \n",
              "freq                   222  \n",
              "mean                   NaN  \n",
              "std                    NaN  \n",
              "min                    NaN  \n",
              "25%                    NaN  \n",
              "50%                    NaN  \n",
              "75%                    NaN  \n",
              "max                    NaN  "
            ]
          },
          "execution_count": 10,
          "metadata": {},
          "output_type": "execute_result"
        }
      ],
      "source": [
        "df.describe(include='all')"
      ]
    },
    {
      "cell_type": "code",
      "execution_count": null,
      "metadata": {},
      "outputs": [],
      "source": [
        "# обрабатываем пропуски в категориальных признаках самым простым вариантом, замена на unknown\n",
        "\n",
        "df['designation'] = df['designation'].fillna('unknown')\n",
        "df['region_1'] = df['region_1'].fillna('unknown')\n",
        "df['taster_name'] = df['taster_name'].fillna('unknown')\n",
        "df['taster_twitter_handle'] = df['taster_twitter_handle'].fillna('unknown')\n",
        "\n",
        "# признаки с маленьким количеством пропусков заменим на самые частовречающиеся значения\n",
        "df['country'] = df['country'].fillna('US')\n",
        "df['price'] = df['price'].fillna(df['price'].mean())\n",
        "df['province'] = df['province'].fillna('California')\n",
        "df['variety'] = df['variety'].fillna('Pinot Noir')"
      ]
    },
    {
      "cell_type": "code",
      "execution_count": null,
      "metadata": {},
      "outputs": [],
      "source": [
        "df.info()"
      ]
    },
    {
      "cell_type": "code",
      "execution_count": null,
      "metadata": {},
      "outputs": [],
      "source": [
        "# в числовом признаке выберем метод замены средним значением\n",
        "df['price'] = df['price'].fillna(df['price'].mean())"
      ]
    },
    {
      "cell_type": "code",
      "execution_count": null,
      "metadata": {},
      "outputs": [],
      "source": [
        "sns.heatmap(df.isnull()) # убеждаемся, что датасет без пропусков"
      ]
    },
    {
      "cell_type": "code",
      "execution_count": null,
      "metadata": {},
      "outputs": [],
      "source": [
        "df = df.to_csv('wine_cleared.csv', index=False) # сохраняем очищенный датасет для дальнейшей работы"
      ]
    }
  ],
  "metadata": {
    "kernelspec": {
      "display_name": "Python 3",
      "language": "python",
      "name": "python3"
    },
    "language_info": {
      "codemirror_mode": {
        "name": "ipython",
        "version": 3
      },
      "file_extension": ".py",
      "mimetype": "text/x-python",
      "name": "python",
      "nbconvert_exporter": "python",
      "pygments_lexer": "ipython3",
      "version": "3.13.5"
    },
    "nteract": {
      "version": "0.28.0"
    }
  },
  "nbformat": 4,
  "nbformat_minor": 2
}
