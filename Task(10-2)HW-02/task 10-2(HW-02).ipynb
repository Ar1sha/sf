{
 "cells": [
  {
   "cell_type": "markdown",
   "id": "c4aca50e",
   "metadata": {},
   "source": [
    "# <center> Практика. Статистические тесты в контексте EDA"
   ]
  },
  {
   "cell_type": "markdown",
   "id": "2b12acc6",
   "metadata": {},
   "source": [
    "\n",
    "Исследуйте данные и сделайте выводы по полученным результатам. Подкрепите свои рассуждения и выводы визуализациями и с помощью статистического тестирования проверьте, являются ли выводы статистически значимыми.\n",
    "\n",
    "В результате анализа будет выявлено:\n",
    "\n",
    "Kакие факторы влияют на зарплату специалиста Data Scientist.\n",
    "\n",
    "А так же ответить на ключевые вопросы HR-агентства:\n",
    "* Наблюдается ли ежегодный рост зарплат у специалистов Data Scientist?\n",
    "* Как соотносятся зарплаты Data Scientist и Data Engineer в 2022 году?\n",
    "* Как соотносятся зарплаты специалистов Data Scientist в компаниях различных размеров?\n",
    "* Есть ли связь между наличием должностей Data Scientist и Data Engineer и размером компании?\n",
    "\n",
    "\n",
    "На каждый вопрос необходимо ответить с уровнем значимости $\\alpha=0.05$."
   ]
  },
  {
   "cell_type": "markdown",
   "id": "34f2ea61",
   "metadata": {},
   "source": [
    "Данные содержат следующие столбцы:\n",
    "Наименование столбца\tОписание\n",
    "* **work_year**\tГод, в котором была выплачена зарплата.\n",
    "* **experience_level**\tОпыт работы на этой должности в течение года со следующими возможными значениями:\n",
    "    * EN — Entry-level/Junior;\n",
    "    * MI — Mid-level/Intermediate;\n",
    "    * SE — Senior-level/Expert;\n",
    "    * EX — Executive-level/Director.\n",
    "* **employment_type**\tТип трудоустройства для этой роли:\n",
    "    *   PT — неполный рабочий день;\n",
    "    *   FT — полный рабочий день;\n",
    "    *   CT — контракт;\n",
    "    *   FL — фриланс.\n",
    "* **job_title**\tРоль, в которой соискатель работал в течение года.\n",
    "* **salary**\tОбщая выплаченная валовая сумма заработной платы.\n",
    "* **salary_currency**\tВалюта выплачиваемой заработной платы в виде кода валюты ISO 4217.\n",
    "* **salary_in_usd**\tЗарплата в долларах США (валютный курс, делённый на среднее значение курса доллара США за соответствующий год через fxdata.foorilla.com).\n",
    "* **employee_residence**\tОсновная страна проживания сотрудника в течение рабочего года в виде кода страны ISO 3166.\n",
    "* **remote_ratio**\tОбщий объём работы, выполняемой удалённо. Возможные значения:\n",
    "    * 0 — удалённой работы нет (менее 20 %);\n",
    "    * 50 — частично удалённая работа;\n",
    "    * 100 — полностью удалённая работа (более 80 %).\n",
    "* **company_location**\tСтрана главного офиса работодателя или филиала по контракту в виде кода страны ISO 3166.\n",
    "* **company_size**\tСреднее количество людей, работавших в компании в течение года:\n",
    "    * S — менее 50 сотрудников (небольшая компания);\n",
    "    * M — от 50 до 250 сотрудников (средняя компания);\n",
    "    * L — более 250 сотрудников (крупная компания)."
   ]
  },
  {
   "cell_type": "code",
   "execution_count": 1,
   "id": "d17bce41",
   "metadata": {},
   "outputs": [],
   "source": [
    "# загружаем необходимые библиотеки\n",
    "import pandas as pd\n",
    "import numpy as np\n",
    "\n",
    "from scipy import stats\n",
    "import statsmodels.api as sm\n",
    "from statsmodels import stats as sms\n",
    "\n",
    "import matplotlib.pyplot as plt\n",
    "import seaborn as sns\n",
    "\n",
    "# делаем визуальную настройку графиков\n",
    "# sns.set_theme(\"notebook\") \n",
    "# sns.set_palette(\"Set2\") "
   ]
  },
  {
   "cell_type": "code",
   "execution_count": 2,
   "id": "f8235e44",
   "metadata": {},
   "outputs": [
    {
     "name": "stderr",
     "output_type": "stream",
     "text": [
      "<>:1: SyntaxWarning: invalid escape sequence '\\V'\n",
      "<>:1: SyntaxWarning: invalid escape sequence '\\V'\n",
      "C:\\Users\\arinathebest\\AppData\\Local\\Temp\\ipykernel_8356\\40229718.py:1: SyntaxWarning: invalid escape sequence '\\V'\n",
      "  df = pd.read_csv('C:\\VS CODE\\GIT\\sf-1\\Task(10-2)HW-02\\ds_salaries.csv', sep=',')\n"
     ]
    },
    {
     "data": {
      "text/html": [
       "<div>\n",
       "<style scoped>\n",
       "    .dataframe tbody tr th:only-of-type {\n",
       "        vertical-align: middle;\n",
       "    }\n",
       "\n",
       "    .dataframe tbody tr th {\n",
       "        vertical-align: top;\n",
       "    }\n",
       "\n",
       "    .dataframe thead th {\n",
       "        text-align: right;\n",
       "    }\n",
       "</style>\n",
       "<table border=\"1\" class=\"dataframe\">\n",
       "  <thead>\n",
       "    <tr style=\"text-align: right;\">\n",
       "      <th></th>\n",
       "      <th>Unnamed: 0</th>\n",
       "      <th>work_year</th>\n",
       "      <th>experience_level</th>\n",
       "      <th>employment_type</th>\n",
       "      <th>job_title</th>\n",
       "      <th>salary</th>\n",
       "      <th>salary_currency</th>\n",
       "      <th>salary_in_usd</th>\n",
       "      <th>employee_residence</th>\n",
       "      <th>remote_ratio</th>\n",
       "      <th>company_location</th>\n",
       "      <th>company_size</th>\n",
       "    </tr>\n",
       "  </thead>\n",
       "  <tbody>\n",
       "    <tr>\n",
       "      <th>0</th>\n",
       "      <td>0</td>\n",
       "      <td>2020</td>\n",
       "      <td>MI</td>\n",
       "      <td>FT</td>\n",
       "      <td>Data Scientist</td>\n",
       "      <td>70000</td>\n",
       "      <td>EUR</td>\n",
       "      <td>79833</td>\n",
       "      <td>DE</td>\n",
       "      <td>0</td>\n",
       "      <td>DE</td>\n",
       "      <td>L</td>\n",
       "    </tr>\n",
       "    <tr>\n",
       "      <th>1</th>\n",
       "      <td>1</td>\n",
       "      <td>2020</td>\n",
       "      <td>SE</td>\n",
       "      <td>FT</td>\n",
       "      <td>Machine Learning Scientist</td>\n",
       "      <td>260000</td>\n",
       "      <td>USD</td>\n",
       "      <td>260000</td>\n",
       "      <td>JP</td>\n",
       "      <td>0</td>\n",
       "      <td>JP</td>\n",
       "      <td>S</td>\n",
       "    </tr>\n",
       "    <tr>\n",
       "      <th>2</th>\n",
       "      <td>2</td>\n",
       "      <td>2020</td>\n",
       "      <td>SE</td>\n",
       "      <td>FT</td>\n",
       "      <td>Big Data Engineer</td>\n",
       "      <td>85000</td>\n",
       "      <td>GBP</td>\n",
       "      <td>109024</td>\n",
       "      <td>GB</td>\n",
       "      <td>50</td>\n",
       "      <td>GB</td>\n",
       "      <td>M</td>\n",
       "    </tr>\n",
       "    <tr>\n",
       "      <th>3</th>\n",
       "      <td>3</td>\n",
       "      <td>2020</td>\n",
       "      <td>MI</td>\n",
       "      <td>FT</td>\n",
       "      <td>Product Data Analyst</td>\n",
       "      <td>20000</td>\n",
       "      <td>USD</td>\n",
       "      <td>20000</td>\n",
       "      <td>HN</td>\n",
       "      <td>0</td>\n",
       "      <td>HN</td>\n",
       "      <td>S</td>\n",
       "    </tr>\n",
       "    <tr>\n",
       "      <th>4</th>\n",
       "      <td>4</td>\n",
       "      <td>2020</td>\n",
       "      <td>SE</td>\n",
       "      <td>FT</td>\n",
       "      <td>Machine Learning Engineer</td>\n",
       "      <td>150000</td>\n",
       "      <td>USD</td>\n",
       "      <td>150000</td>\n",
       "      <td>US</td>\n",
       "      <td>50</td>\n",
       "      <td>US</td>\n",
       "      <td>L</td>\n",
       "    </tr>\n",
       "  </tbody>\n",
       "</table>\n",
       "</div>"
      ],
      "text/plain": [
       "   Unnamed: 0  work_year experience_level employment_type  \\\n",
       "0           0       2020               MI              FT   \n",
       "1           1       2020               SE              FT   \n",
       "2           2       2020               SE              FT   \n",
       "3           3       2020               MI              FT   \n",
       "4           4       2020               SE              FT   \n",
       "\n",
       "                    job_title  salary salary_currency  salary_in_usd  \\\n",
       "0              Data Scientist   70000             EUR          79833   \n",
       "1  Machine Learning Scientist  260000             USD         260000   \n",
       "2           Big Data Engineer   85000             GBP         109024   \n",
       "3        Product Data Analyst   20000             USD          20000   \n",
       "4   Machine Learning Engineer  150000             USD         150000   \n",
       "\n",
       "  employee_residence  remote_ratio company_location company_size  \n",
       "0                 DE             0               DE            L  \n",
       "1                 JP             0               JP            S  \n",
       "2                 GB            50               GB            M  \n",
       "3                 HN             0               HN            S  \n",
       "4                 US            50               US            L  "
      ]
     },
     "execution_count": 2,
     "metadata": {},
     "output_type": "execute_result"
    }
   ],
   "source": [
    "df = pd.read_csv('C:\\VS CODE\\GIT\\sf-1\\Task(10-2)HW-02\\ds_salaries.csv', sep=',')\n",
    "df.head()"
   ]
  },
  {
   "cell_type": "code",
   "execution_count": 3,
   "id": "5c30c46a",
   "metadata": {},
   "outputs": [
    {
     "name": "stdout",
     "output_type": "stream",
     "text": [
      "Уровень значимости alpha = 0.05\n"
     ]
    }
   ],
   "source": [
    "alpha = 0.05\n",
    "print('Уровень значимости alpha = {:.2f}'.format(alpha))"
   ]
  },
  {
   "cell_type": "markdown",
   "id": "d209f268",
   "metadata": {},
   "source": [
    "## Описательный анализ данных"
   ]
  },
  {
   "cell_type": "code",
   "execution_count": 4,
   "id": "4e8a59ad",
   "metadata": {},
   "outputs": [
    {
     "name": "stdout",
     "output_type": "stream",
     "text": [
      "<class 'pandas.core.frame.DataFrame'>\n",
      "RangeIndex: 607 entries, 0 to 606\n",
      "Data columns (total 12 columns):\n",
      " #   Column              Non-Null Count  Dtype \n",
      "---  ------              --------------  ----- \n",
      " 0   Unnamed: 0          607 non-null    int64 \n",
      " 1   work_year           607 non-null    int64 \n",
      " 2   experience_level    607 non-null    object\n",
      " 3   employment_type     607 non-null    object\n",
      " 4   job_title           607 non-null    object\n",
      " 5   salary              607 non-null    int64 \n",
      " 6   salary_currency     607 non-null    object\n",
      " 7   salary_in_usd       607 non-null    int64 \n",
      " 8   employee_residence  607 non-null    object\n",
      " 9   remote_ratio        607 non-null    int64 \n",
      " 10  company_location    607 non-null    object\n",
      " 11  company_size        607 non-null    object\n",
      "dtypes: int64(5), object(7)\n",
      "memory usage: 57.0+ KB\n"
     ]
    }
   ],
   "source": [
    "df.info()"
   ]
  },
  {
   "cell_type": "code",
   "execution_count": 5,
   "id": "5e87c327",
   "metadata": {},
   "outputs": [
    {
     "name": "stdout",
     "output_type": "stream",
     "text": [
      "Количество дубликатов 0\n"
     ]
    }
   ],
   "source": [
    "print('Количество дубликатов {}'.format(df[df.duplicated()].shape[0]))"
   ]
  },
  {
   "cell_type": "markdown",
   "id": "6939ce27",
   "metadata": {},
   "source": [
    "### Распределение заработной платы в долларах \n"
   ]
  },
  {
   "cell_type": "code",
   "execution_count": 6,
   "id": "776b1584",
   "metadata": {},
   "outputs": [
    {
     "data": {
      "image/png": "[encoded data removed]",
      "text/plain": [
       "<Figure size 1500x500 with 2 Axes>"
      ]
     },
     "metadata": {},
     "output_type": "display_data"
    }
   ],
   "source": [
    "\n",
    "fig, axes = plt.subplots(1,2, figsize= (15,5))\n",
    "\n",
    "sns.histplot(x=df['salary_in_usd'], kde=True, ax=axes[0])\n",
    "axes[0].set(xlabel='Размер заработной платы в долларах', ylabel='Частота')\n",
    "axes[0].set_title('Распределение заработной платы в долларах')\n",
    "axes[0].axvline(df['salary_in_usd'].mean(), color='red', linestyle='--', linewidth=0.8)\n",
    "\n",
    "sns.boxplot(x=df['salary_in_usd'], ax=axes[1], orient='h', medianprops={'color': 'red', 'linestyle':'--'})\n",
    "axes[1].set(ylabel = 'Размер заработной платы в долларах', xlabel = '')\n",
    "axes[1].set_title('Распределение заработной платы в долларах')\n",
    "plt.show()"
   ]
  },
  {
   "cell_type": "code",
   "execution_count": 7,
   "id": "578d3ce1",
   "metadata": {},
   "outputs": [
    {
     "data": {
      "text/html": [
       "<div>\n",
       "<style scoped>\n",
       "    .dataframe tbody tr th:only-of-type {\n",
       "        vertical-align: middle;\n",
       "    }\n",
       "\n",
       "    .dataframe tbody tr th {\n",
       "        vertical-align: top;\n",
       "    }\n",
       "\n",
       "    .dataframe thead th {\n",
       "        text-align: right;\n",
       "    }\n",
       "</style>\n",
       "<table border=\"1\" class=\"dataframe\">\n",
       "  <thead>\n",
       "    <tr style=\"text-align: right;\">\n",
       "      <th></th>\n",
       "      <th>Размер зарплаты в долларах</th>\n",
       "    </tr>\n",
       "  </thead>\n",
       "  <tbody>\n",
       "    <tr>\n",
       "      <th>count</th>\n",
       "      <td>607.00</td>\n",
       "    </tr>\n",
       "    <tr>\n",
       "      <th>mean</th>\n",
       "      <td>112297.87</td>\n",
       "    </tr>\n",
       "    <tr>\n",
       "      <th>std</th>\n",
       "      <td>70957.26</td>\n",
       "    </tr>\n",
       "    <tr>\n",
       "      <th>min</th>\n",
       "      <td>2859.00</td>\n",
       "    </tr>\n",
       "    <tr>\n",
       "      <th>25%</th>\n",
       "      <td>62726.00</td>\n",
       "    </tr>\n",
       "    <tr>\n",
       "      <th>50%</th>\n",
       "      <td>101570.00</td>\n",
       "    </tr>\n",
       "    <tr>\n",
       "      <th>75%</th>\n",
       "      <td>150000.00</td>\n",
       "    </tr>\n",
       "    <tr>\n",
       "      <th>max</th>\n",
       "      <td>600000.00</td>\n",
       "    </tr>\n",
       "  </tbody>\n",
       "</table>\n",
       "</div>"
      ],
      "text/plain": [
       "       Размер зарплаты в долларах\n",
       "count                      607.00\n",
       "mean                    112297.87\n",
       "std                      70957.26\n",
       "min                       2859.00\n",
       "25%                      62726.00\n",
       "50%                     101570.00\n",
       "75%                     150000.00\n",
       "max                     600000.00"
      ]
     },
     "execution_count": 7,
     "metadata": {},
     "output_type": "execute_result"
    }
   ],
   "source": [
    "df_agg = df['salary_in_usd'].describe().round(2).to_frame()\n",
    "df_agg.columns = ['Размер зарплаты в долларах']\n",
    "df_agg"
   ]
  },
  {
   "cell_type": "markdown",
   "id": "5af9c01b",
   "metadata": {},
   "source": [
    "Распределение заработной платы отлично от нормального, имеются выбросы"
   ]
  },
  {
   "cell_type": "markdown",
   "id": "713bf947",
   "metadata": {},
   "source": [
    "### Наблюдается ли ежегодный рост зарплаты у специалистов Data Scientist"
   ]
  },
  {
   "cell_type": "code",
   "execution_count": 8,
   "id": "03bd81c6",
   "metadata": {},
   "outputs": [],
   "source": [
    "mask1 = df[df['job_title']=='Data Scientist']"
   ]
  },
  {
   "cell_type": "code",
   "execution_count": 9,
   "id": "e6b5ffe2",
   "metadata": {},
   "outputs": [
    {
     "data": {
      "text/plain": [
       "Text(0.5, 1.0, 'Распределение ЗП(доллары) по году работы специалиста Data Scientist')"
      ]
     },
     "execution_count": 9,
     "metadata": {},
     "output_type": "execute_result"
    },
    {
     "data": {
      "image/png": "[encoded data removed]",
      "text/plain": [
       "<Figure size 640x480 with 1 Axes>"
      ]
     },
     "metadata": {},
     "output_type": "display_data"
    }
   ],
   "source": [
    "ax = sns.boxplot(data=mask1, x='salary_in_usd', y='work_year', orient='h', medianprops={'color':'red', 'linestyle':'--'})\n",
    "ax.set(xlabel = 'Распределение заработной платы(доллары)', ylabel = 'Год')\n",
    "plt.title('Распределение ЗП(доллары) по году работы специалиста Data Scientist')"
   ]
  },
  {
   "cell_type": "code",
   "execution_count": 10,
   "id": "1d956a14",
   "metadata": {},
   "outputs": [
    {
     "name": "stdout",
     "output_type": "stream",
     "text": [
      "Выплаты специалистам Data Scientist в зависимости от года\n"
     ]
    },
    {
     "data": {
      "text/html": [
       "<div>\n",
       "<style scoped>\n",
       "    .dataframe tbody tr th:only-of-type {\n",
       "        vertical-align: middle;\n",
       "    }\n",
       "\n",
       "    .dataframe tbody tr th {\n",
       "        vertical-align: top;\n",
       "    }\n",
       "\n",
       "    .dataframe thead th {\n",
       "        text-align: right;\n",
       "    }\n",
       "</style>\n",
       "<table border=\"1\" class=\"dataframe\">\n",
       "  <thead>\n",
       "    <tr style=\"text-align: right;\">\n",
       "      <th></th>\n",
       "      <th>count</th>\n",
       "      <th>mean</th>\n",
       "      <th>std</th>\n",
       "      <th>min</th>\n",
       "      <th>25%</th>\n",
       "      <th>50%</th>\n",
       "      <th>75%</th>\n",
       "      <th>max</th>\n",
       "    </tr>\n",
       "    <tr>\n",
       "      <th>work_year</th>\n",
       "      <th></th>\n",
       "      <th></th>\n",
       "      <th></th>\n",
       "      <th></th>\n",
       "      <th></th>\n",
       "      <th></th>\n",
       "      <th></th>\n",
       "      <th></th>\n",
       "    </tr>\n",
       "  </thead>\n",
       "  <tbody>\n",
       "    <tr>\n",
       "      <th>2020</th>\n",
       "      <td>72.0</td>\n",
       "      <td>95813.00</td>\n",
       "      <td>82831.80</td>\n",
       "      <td>5707.0</td>\n",
       "      <td>45724.5</td>\n",
       "      <td>75544.0</td>\n",
       "      <td>115526.0</td>\n",
       "      <td>450000.0</td>\n",
       "    </tr>\n",
       "    <tr>\n",
       "      <th>2021</th>\n",
       "      <td>217.0</td>\n",
       "      <td>99853.79</td>\n",
       "      <td>80225.11</td>\n",
       "      <td>2859.0</td>\n",
       "      <td>50000.0</td>\n",
       "      <td>82528.0</td>\n",
       "      <td>135000.0</td>\n",
       "      <td>600000.0</td>\n",
       "    </tr>\n",
       "    <tr>\n",
       "      <th>2022</th>\n",
       "      <td>318.0</td>\n",
       "      <td>124522.01</td>\n",
       "      <td>58183.65</td>\n",
       "      <td>10000.0</td>\n",
       "      <td>81666.0</td>\n",
       "      <td>120000.0</td>\n",
       "      <td>160000.0</td>\n",
       "      <td>405000.0</td>\n",
       "    </tr>\n",
       "  </tbody>\n",
       "</table>\n",
       "</div>"
      ],
      "text/plain": [
       "           count       mean       std      min      25%       50%       75%  \\\n",
       "work_year                                                                     \n",
       "2020        72.0   95813.00  82831.80   5707.0  45724.5   75544.0  115526.0   \n",
       "2021       217.0   99853.79  80225.11   2859.0  50000.0   82528.0  135000.0   \n",
       "2022       318.0  124522.01  58183.65  10000.0  81666.0  120000.0  160000.0   \n",
       "\n",
       "                max  \n",
       "work_year            \n",
       "2020       450000.0  \n",
       "2021       600000.0  \n",
       "2022       405000.0  "
      ]
     },
     "execution_count": 10,
     "metadata": {},
     "output_type": "execute_result"
    }
   ],
   "source": [
    "df_agg = df.groupby('work_year')['salary_in_usd'].describe().round(2)\n",
    "print('Выплаты специалистам Data Scientist в зависимости от года')\n",
    "df_agg"
   ]
  },
  {
   "cell_type": "markdown",
   "id": "3e8a04ce",
   "metadata": {},
   "source": [
    "Наблюдается ежегодный рост заработной платы для специалистов Data Scientist. Чтобы являются это значния статистически значимыми, в следующем разделе мы проведем тестирование."
   ]
  },
  {
   "cell_type": "markdown",
   "id": "91ea4bb3",
   "metadata": {},
   "source": [
    "### Как соотносятся зарплаты Data Scientist и Data Engineer в 2022 году?"
   ]
  },
  {
   "cell_type": "code",
   "execution_count": 11,
   "id": "88e91833",
   "metadata": {},
   "outputs": [
    {
     "data": {
      "image/png": "[encoded data removed]",
      "text/plain": [
       "<Figure size 640x480 with 1 Axes>"
      ]
     },
     "metadata": {},
     "output_type": "display_data"
    }
   ],
   "source": [
    "mask2 = df[(df['job_title']=='Data Scientist') | (df['job_title']=='Data Engineer')]\n",
    "ax= sns.boxplot(data=mask2, x='salary_in_usd', y='job_title', orient='h', medianprops={'color':'red', 'linestyle':'--'})\n",
    "plt.title('Соотношение зарплат DS и DE')\n",
    "ax.set(xlabel='ЗП(доллары)', ylabel='Специальность')\n",
    "plt.show()"
   ]
  },
  {
   "cell_type": "code",
   "execution_count": 12,
   "id": "8e002ebf",
   "metadata": {},
   "outputs": [
    {
     "name": "stdout",
     "output_type": "stream",
     "text": [
      "Соотношение зарплат DS и DE\n"
     ]
    },
    {
     "data": {
      "text/html": [
       "<div>\n",
       "<style scoped>\n",
       "    .dataframe tbody tr th:only-of-type {\n",
       "        vertical-align: middle;\n",
       "    }\n",
       "\n",
       "    .dataframe tbody tr th {\n",
       "        vertical-align: top;\n",
       "    }\n",
       "\n",
       "    .dataframe thead th {\n",
       "        text-align: right;\n",
       "    }\n",
       "</style>\n",
       "<table border=\"1\" class=\"dataframe\">\n",
       "  <thead>\n",
       "    <tr style=\"text-align: right;\">\n",
       "      <th></th>\n",
       "      <th>count</th>\n",
       "      <th>mean</th>\n",
       "      <th>std</th>\n",
       "      <th>min</th>\n",
       "      <th>25%</th>\n",
       "      <th>50%</th>\n",
       "      <th>75%</th>\n",
       "      <th>max</th>\n",
       "    </tr>\n",
       "    <tr>\n",
       "      <th>job_title</th>\n",
       "      <th></th>\n",
       "      <th></th>\n",
       "      <th></th>\n",
       "      <th></th>\n",
       "      <th></th>\n",
       "      <th></th>\n",
       "      <th></th>\n",
       "      <th></th>\n",
       "    </tr>\n",
       "  </thead>\n",
       "  <tbody>\n",
       "    <tr>\n",
       "      <th>Data Engineer</th>\n",
       "      <td>132.0</td>\n",
       "      <td>112725.00</td>\n",
       "      <td>57629.08</td>\n",
       "      <td>4000.0</td>\n",
       "      <td>70039.5</td>\n",
       "      <td>105500.0</td>\n",
       "      <td>154600.0</td>\n",
       "      <td>324000.0</td>\n",
       "    </tr>\n",
       "    <tr>\n",
       "      <th>Data Scientist</th>\n",
       "      <td>143.0</td>\n",
       "      <td>108187.83</td>\n",
       "      <td>64112.84</td>\n",
       "      <td>2859.0</td>\n",
       "      <td>54724.0</td>\n",
       "      <td>103691.0</td>\n",
       "      <td>140850.0</td>\n",
       "      <td>412000.0</td>\n",
       "    </tr>\n",
       "  </tbody>\n",
       "</table>\n",
       "</div>"
      ],
      "text/plain": [
       "                count       mean       std     min      25%       50%  \\\n",
       "job_title                                                               \n",
       "Data Engineer   132.0  112725.00  57629.08  4000.0  70039.5  105500.0   \n",
       "Data Scientist  143.0  108187.83  64112.84  2859.0  54724.0  103691.0   \n",
       "\n",
       "                     75%       max  \n",
       "job_title                           \n",
       "Data Engineer   154600.0  324000.0  \n",
       "Data Scientist  140850.0  412000.0  "
      ]
     },
     "execution_count": 12,
     "metadata": {},
     "output_type": "execute_result"
    }
   ],
   "source": [
    "df_agg = mask2.groupby('job_title')['salary_in_usd'].describe().round(2)\n",
    "print('Соотношение зарплат DS и DE')\n",
    "df_agg"
   ]
  },
  {
   "cell_type": "markdown",
   "id": "c49f7fad",
   "metadata": {},
   "source": [
    "Соотношения заработных плат в специальностях являются примерно равным. Чтобы определить, являются ли эти данные статистически значимыми, в следующем разделе мы проведем статистические тесы"
   ]
  },
  {
   "cell_type": "markdown",
   "id": "4f0a2b6f",
   "metadata": {},
   "source": [
    "### Как соотносятся зарплаты специалистов Data Scientist в компаниях различных размеров?\n"
   ]
  },
  {
   "cell_type": "code",
   "execution_count": 13,
   "id": "ebec517e",
   "metadata": {},
   "outputs": [
    {
     "data": {
      "image/png": "[encoded data removed]",
      "text/plain": [
       "<Figure size 640x480 with 1 Axes>"
      ]
     },
     "metadata": {},
     "output_type": "display_data"
    }
   ],
   "source": [
    "ax = sns.boxplot(data=mask1, x='salary_in_usd', y= 'company_size', orient='h',order=['S', 'M', 'L'], medianprops={'color':'red', 'linestyle':'--'})\n",
    "ax.set(xlabel='Заработная плата в доллорах', ylabel='Размер компании')\n",
    "plt.title('Соотношение зарплаты Data Scientist в компаниях различных размеров')\n",
    "plt.show()"
   ]
  },
  {
   "cell_type": "code",
   "execution_count": 14,
   "id": "05d9a52b",
   "metadata": {},
   "outputs": [
    {
     "name": "stdout",
     "output_type": "stream",
     "text": [
      "Соотношение зарплаты для Data Scientist в компаниях различных размеров\n"
     ]
    },
    {
     "data": {
      "text/html": [
       "<div>\n",
       "<style scoped>\n",
       "    .dataframe tbody tr th:only-of-type {\n",
       "        vertical-align: middle;\n",
       "    }\n",
       "\n",
       "    .dataframe tbody tr th {\n",
       "        vertical-align: top;\n",
       "    }\n",
       "\n",
       "    .dataframe thead th {\n",
       "        text-align: right;\n",
       "    }\n",
       "</style>\n",
       "<table border=\"1\" class=\"dataframe\">\n",
       "  <thead>\n",
       "    <tr style=\"text-align: right;\">\n",
       "      <th></th>\n",
       "      <th>count</th>\n",
       "      <th>mean</th>\n",
       "      <th>std</th>\n",
       "      <th>min</th>\n",
       "      <th>25%</th>\n",
       "      <th>50%</th>\n",
       "      <th>75%</th>\n",
       "      <th>max</th>\n",
       "    </tr>\n",
       "    <tr>\n",
       "      <th>company_size</th>\n",
       "      <th></th>\n",
       "      <th></th>\n",
       "      <th></th>\n",
       "      <th></th>\n",
       "      <th></th>\n",
       "      <th></th>\n",
       "      <th></th>\n",
       "      <th></th>\n",
       "    </tr>\n",
       "  </thead>\n",
       "  <tbody>\n",
       "    <tr>\n",
       "      <th>S</th>\n",
       "      <td>83.0</td>\n",
       "      <td>77632.67</td>\n",
       "      <td>63461.71</td>\n",
       "      <td>2859.0</td>\n",
       "      <td>41943.00</td>\n",
       "      <td>65000.0</td>\n",
       "      <td>100000.0</td>\n",
       "      <td>416000.0</td>\n",
       "    </tr>\n",
       "    <tr>\n",
       "      <th>M</th>\n",
       "      <td>326.0</td>\n",
       "      <td>116905.47</td>\n",
       "      <td>59287.69</td>\n",
       "      <td>4000.0</td>\n",
       "      <td>78131.50</td>\n",
       "      <td>113188.0</td>\n",
       "      <td>152875.0</td>\n",
       "      <td>450000.0</td>\n",
       "    </tr>\n",
       "    <tr>\n",
       "      <th>L</th>\n",
       "      <td>198.0</td>\n",
       "      <td>119242.99</td>\n",
       "      <td>86156.74</td>\n",
       "      <td>5882.0</td>\n",
       "      <td>61041.75</td>\n",
       "      <td>100000.0</td>\n",
       "      <td>154600.0</td>\n",
       "      <td>600000.0</td>\n",
       "    </tr>\n",
       "  </tbody>\n",
       "</table>\n",
       "</div>"
      ],
      "text/plain": [
       "              count       mean       std     min       25%       50%  \\\n",
       "company_size                                                           \n",
       "S              83.0   77632.67  63461.71  2859.0  41943.00   65000.0   \n",
       "M             326.0  116905.47  59287.69  4000.0  78131.50  113188.0   \n",
       "L             198.0  119242.99  86156.74  5882.0  61041.75  100000.0   \n",
       "\n",
       "                   75%       max  \n",
       "company_size                      \n",
       "S             100000.0  416000.0  \n",
       "M             152875.0  450000.0  \n",
       "L             154600.0  600000.0  "
      ]
     },
     "execution_count": 14,
     "metadata": {},
     "output_type": "execute_result"
    }
   ],
   "source": [
    "df_agg= df.groupby('company_size',sort=False)['salary_in_usd'].describe().round(2)\n",
    "df_agg = df_agg.reindex(['S', 'M', 'L'])\n",
    "print('Соотношение зарплаты для Data Scientist в компаниях различных размеров')\n",
    "df_agg"
   ]
  },
  {
   "cell_type": "markdown",
   "id": "5606e0b0",
   "metadata": {},
   "source": [
    "Соотношения зарплаты для DS в компаниях разных размеров различны. Чтобы определить являются ли эти различия статистически значимыми, в следующем разделе проведем статистические тесы"
   ]
  },
  {
   "cell_type": "markdown",
   "id": "98985754",
   "metadata": {},
   "source": [
    "### Есть ли связь между наличием должностей Data Scientist и Data Engineer и размером компании?\n"
   ]
  },
  {
   "cell_type": "code",
   "execution_count": 15,
   "id": "fc5a7934",
   "metadata": {},
   "outputs": [
    {
     "data": {
      "image/png": "[encoded data removed]",
      "text/plain": [
       "<Figure size 640x480 with 2 Axes>"
      ]
     },
     "metadata": {},
     "output_type": "display_data"
    }
   ],
   "source": [
    "cross_tab = pd.crosstab(index= mask2['job_title'], columns=mask2['company_size'])\n",
    "ax= sns.heatmap(cross_tab, annot=True, linewidth=.5, fmt='.0f', cmap='coolwarm')\n",
    "ax.set(xlabel='Размер компании', ylabel='Cпециальность')\n",
    "plt.title('Таблица сопряженности')\n",
    "plt.show()"
   ]
  },
  {
   "cell_type": "markdown",
   "id": "370e9133",
   "metadata": {},
   "source": [
    "Согласно данным, DE и DS более востребованы в средних и крупных компаниях.Чтобы определить являются ли эти различия статистически значимыми, в следующем разделе мы проведем статистические тесты"
   ]
  },
  {
   "cell_type": "markdown",
   "id": "9c7a4aba",
   "metadata": {},
   "source": [
    "## Статистический анализ данных\n"
   ]
  },
  {
   "cell_type": "code",
   "execution_count": 16,
   "id": "f274b21e",
   "metadata": {},
   "outputs": [],
   "source": [
    "#функиця для принятия решения о нормальности\n",
    "def decision_normality(p):\n",
    "    print('p-value = {:.3f}'.format(p))\n",
    "    if p<=alpha:\n",
    "        print('p-value меньше, чем заданный уровнь значимости {:.2f}. Распределение отлично от нормального'.format(alpha))\n",
    "    else:\n",
    "        print('p-value больше, чем заданный уровень значимости {:.2f}.Распределение нормально'.format(alpha))\n",
    "\n",
    "#функция для принятия решения об отклонении нулевой гипотезы\n",
    "def decision_hypothesis(p):\n",
    "    print('p-value = {:.3f}'.format(p))\n",
    "    if p<=alpha:\n",
    "        print('p-value меньше, чем заданный уровень значимости {:.2f}.Отвергаем нулевую гипотезу в пользу альтернативной'.format(alpha))\n",
    "    else:\n",
    "        print('p-value больше, чем заданный уровень значимости {:.2f}. Нет оснований отвергать нулевую гипотезу'.format(alpha))"
   ]
  },
  {
   "cell_type": "markdown",
   "id": "1ed7f07d",
   "metadata": {},
   "source": [
    "### Наблюдается ли ежегодный рост зарплат у специалистов Data Scientist?\n"
   ]
  },
  {
   "cell_type": "markdown",
   "id": "e0a4d594",
   "metadata": {},
   "source": [
    "**Сформулируем нулевую и альтернативную гипотезу**\n",
    "\n",
    "Нулевая гипотеза ($H_0$): зарплата у специалистов Data scientist статистически меньше, либо равна из года в год(2020($μ_0$), 2021($μ_1$), 2022($μ_2$))\n",
    "\n",
    "$$ H_0 : μ_1 = μ_2 = μ_3 $$\n",
    "\n",
    "Альтернативная гипотеза ($H_1$): зарплата у специалистов Data Scientist статистически больше из года в год(2020($μ_0$), 2021($μ_1$), 2022($μ_2$))\n",
    "\n",
    "$$ H_1 : μ_1 \\neq μ_2 \\neq μ_3 $$"
   ]
  },
  {
   "cell_type": "markdown",
   "id": "ba89b65d",
   "metadata": {},
   "source": [
    "##### Проверка на нормальность\n",
    "\n",
    "C помощью теста Шапиро-Уилка проверим распределен ли признак нормально."
   ]
  },
  {
   "cell_type": "code",
   "execution_count": 17,
   "id": "4f0c7cc9",
   "metadata": {},
   "outputs": [
    {
     "name": "stdout",
     "output_type": "stream",
     "text": [
      "Для 2020 года:\n",
      "p-value = 0.000\n",
      "p-value меньше, чем заданный уровнь значимости 0.05. Распределение отлично от нормального\n",
      "Для 2021 года:\n",
      "p-value = 0.000\n",
      "p-value меньше, чем заданный уровнь значимости 0.05. Распределение отлично от нормального\n",
      "Для 2022 года:\n",
      "p-value = 0.000\n",
      "p-value меньше, чем заданный уровнь значимости 0.05. Распределение отлично от нормального\n"
     ]
    }
   ],
   "source": [
    "#зарплаты по годам\n",
    "salary_2020 = df.loc[df['work_year']==2020, 'salary_in_usd']\n",
    "salary_2021 = df.loc[df['work_year']==2021, 'salary_in_usd']\n",
    "salary_2022 = df.loc[df['work_year']==2022, 'salary_in_usd']\n",
    "\n",
    "print('Для 2020 года:')\n",
    "result = stats.shapiro(salary_2020)\n",
    "decision_normality(result[1])\n",
    "\n",
    "print('Для 2021 года:')\n",
    "result = stats.shapiro(salary_2021)\n",
    "decision_normality(result[1])\n",
    "\n",
    "print('Для 2022 года:')\n",
    "result = stats.shapiro(salary_2022)\n",
    "decision_normality(result[1])"
   ]
  },
  {
   "cell_type": "markdown",
   "id": "233e6a33",
   "metadata": {},
   "source": [
    "##### Выберем подходящий статистический тест\n",
    "\n",
    "Для выбора нужного теста воспользуемся алгоритмом выбора теста. Для этого ответим на следующие вопросы:\n",
    "\n",
    "* Какой тип у признака \"work_year\"? = Количественный.\n",
    "* Сколько сравнивыемых групп? = 3\n",
    "* Группы зависимы? = Нет\n",
    "* Признак распределен по нормальному закону? = Нет\n",
    "\n",
    "Для проверки нашей гипотезы можно использовать критерий Краскела-Уоллиса"
   ]
  },
  {
   "cell_type": "markdown",
   "id": "6960ba86",
   "metadata": {},
   "source": [
    "##### Проводим тест"
   ]
  },
  {
   "cell_type": "code",
   "execution_count": 18,
   "id": "60b0ca8e",
   "metadata": {},
   "outputs": [
    {
     "name": "stdout",
     "output_type": "stream",
     "text": [
      "p-value = 0.000\n",
      "p-value меньше, чем заданный уровень значимости 0.05.Отвергаем нулевую гипотезу в пользу альтернативной\n"
     ]
    }
   ],
   "source": [
    "#Проводим тест\n",
    "_, p = stats.kruskal(salary_2020, salary_2021, salary_2022)\n",
    "decision_hypothesis(p)"
   ]
  },
  {
   "cell_type": "markdown",
   "id": "cf419d12",
   "metadata": {},
   "source": [
    "**Вывод**:\n",
    "Зарплаты увеличиваются ежегодно для специалистов Data Scientists"
   ]
  },
  {
   "cell_type": "markdown",
   "id": "7488716a",
   "metadata": {},
   "source": [
    "### Как соотносятся зарплаты Data Scientist и Data Engineer в 2022 году?\n"
   ]
  },
  {
   "cell_type": "markdown",
   "id": "87071b4c",
   "metadata": {},
   "source": [
    "**Сформулируем нулевую и альтернативную гипотезы**\n",
    "\n",
    "Нулевая гипотезa($H_0$): Медианные зарплаты Data Scientist($µ_0$) и Data Engineer($µ_1$) равны\n",
    "$$ µ_0 = µ_1 $$\n",
    "Альтернативная гипотеза($H_1$): Медианные зарплаты Data Scientist($µ_0$) и Data Engineer($µ_1$) не равны\n",
    "$$ µ_0 \\neq µ_1 $$"
   ]
  },
  {
   "cell_type": "markdown",
   "id": "3ec849e5",
   "metadata": {},
   "source": [
    "#### Выберем подходящий статистический тест\n",
    "\n",
    "Для выбора нужного теста воспользуемся алгоритмом выбора теста. Для этого ответим на следующие вопросы:\n",
    "* Какой тип у признака зарплата? - Колличественный \n",
    "* Сколько сравнивыемых групп? - Две\n",
    "* Проверяется ли независимоть групп? - Да\n",
    "\n",
    "Для проверки гипотезы можно использовать U-критерий Манна-Уитни\n",
    "\n",
    "#### Проведем тест"
   ]
  },
  {
   "cell_type": "code",
   "execution_count": 19,
   "id": "27e9f882",
   "metadata": {},
   "outputs": [
    {
     "name": "stdout",
     "output_type": "stream",
     "text": [
      "p-value = 0.155\n",
      "p-value больше, чем заданный уровень значимости 0.05. Нет оснований отвергать нулевую гипотезу\n"
     ]
    }
   ],
   "source": [
    "#Создаем переменные для теста\n",
    "DS_2022 = df[(df['job_title']=='Data Scientist') & (df['work_year']==2022)]['salary_in_usd']\n",
    "DE_2022 = df[(df['job_title']=='Data Engineer')&(df['work_year']==2022)]['salary_in_usd']\n",
    "#Проводим тест\n",
    "_,p = stats.mannwhitneyu(DS_2022,DE_2022, alternative='two-sided')\n",
    "decision_hypothesis(p)"
   ]
  },
  {
   "cell_type": "markdown",
   "id": "0f492a44",
   "metadata": {},
   "source": [
    "**Вывод:**\n",
    "Нет оснований отвергать гипотезу, что медианные зарплаты для DS и  DE равны"
   ]
  },
  {
   "cell_type": "markdown",
   "id": "ef5e8c6f",
   "metadata": {},
   "source": [
    "### Как соотносятся зарплаты специалистов Data Scientist в компаниях различных размеров?\n"
   ]
  },
  {
   "cell_type": "markdown",
   "id": "4525a4d3",
   "metadata": {},
   "source": [
    "**Сформулируем нулевую и альтернатиную гипотезы**\n",
    "\n",
    "*Нулевая гипотеза*: между зарплатми специалистов DS в разных компаниях нет взаимосвязи\n",
    "\n",
    "*Альтернативная гипотеза*: между зарплатами специалистов DS в разных компаниях есть связь\n",
    "\n",
    "**Проверка на нормальность распределения**\n",
    "\n",
    "С помощью теста Шапиро-Уилка проверим, распределен ли признак нормально"
   ]
  },
  {
   "cell_type": "code",
   "execution_count": 37,
   "id": "6d2c734d",
   "metadata": {},
   "outputs": [
    {
     "name": "stdout",
     "output_type": "stream",
     "text": [
      "Для компаний размера S:\n",
      "p-value = 0.189\n",
      "p-value больше, чем заданный уровень значимости 0.05.Распределение нормально\n",
      "Для компаний размера M:\n",
      "p-value = 0.639\n",
      "p-value больше, чем заданный уровень значимости 0.05.Распределение нормально\n",
      "Для компаний размера L:\n",
      "p-value = 0.000\n",
      "p-value меньше, чем заданный уровнь значимости 0.05. Распределение отлично от нормального\n"
     ]
    }
   ],
   "source": [
    "S_salary = df.loc[(df['job_title']=='Data Scientist') & (df['company_size']=='S')]['salary_in_usd']\n",
    "M_salary = df.loc[(df['job_title']=='Data Scientist')&(df['company_size']=='M')]['salary_in_usd']\n",
    "L_salary = df.loc[(df['job_title']=='Data Scientist')&(df['company_size']=='L')]['salary_in_usd']\n",
    "\n",
    "#Проверка на нормальность\n",
    "print('Для компаний размера S:')\n",
    "result = stats.shapiro(S_salary)\n",
    "decision_normality(result[1])\n",
    "print('Для компаний размера M:')\n",
    "result = stats.shapiro(M_salary)\n",
    "decision_normality(result[1])\n",
    "print('Для компаний размера L:')\n",
    "result = stats.shapiro(L_salary)\n",
    "decision_normality(result[1])"
   ]
  },
  {
   "cell_type": "markdown",
   "id": "d2c73af0",
   "metadata": {},
   "source": [
    "##### Выберем подходящий статистический тест\n",
    "Для выбора нужного теста воспользуемся алгоритмом выбора теста. Для этого ответим на следующие вопросы:\n",
    "* Какой тип у признака \"зарплата\"? - категориальный\n",
    "* Сколько сравниваемых групп? - 3\n",
    "* Группы зависимы? - Нет\n",
    "* Признак распределен по нормальному закону? - Нет \n",
    "\n",
    "Для проверки нашей гипотезы можно использовать критерий Краксела-Уоллиса\n",
    "##### Проведем тест"
   ]
  },
  {
   "cell_type": "code",
   "execution_count": 39,
   "id": "b5e54a5e",
   "metadata": {},
   "outputs": [
    {
     "name": "stdout",
     "output_type": "stream",
     "text": [
      "p-value = 0.000\n",
      "p-value меньше, чем заданный уровень значимости 0.05.Отвергаем нулевую гипотезу в пользу альтернативной\n"
     ]
    }
   ],
   "source": [
    "#Проводим тест\n",
    "_, p = stats.kruskal(S_salary, M_salary, L_salary)\n",
    "decision_hypothesis(p)"
   ]
  },
  {
   "cell_type": "markdown",
   "id": "9bd9cad0",
   "metadata": {},
   "source": [
    "Вывод: \n",
    "Между размером компании и зарплатой специалистов DS есть связь"
   ]
  },
  {
   "cell_type": "markdown",
   "id": "be2effa1",
   "metadata": {},
   "source": [
    "## Есть ли связь между наличием должностей Data Scientist и Data Engineer и размером компании?\n"
   ]
  },
  {
   "cell_type": "markdown",
   "id": "b10976d9",
   "metadata": {},
   "source": [
    "**Cформулируем нулевую и альтернативную гипотезы**\n",
    "\n",
    "*Нулевая гипотеза:* между наличием должностей Data Scientist, Data Engineer и размером компании связи нет\n",
    "\n",
    "*Альтернативная гипотеза:* между наличием должностей Data Scientist, Data Engineer и размером компании есть связь\n",
    "\n",
    "**Выберем подходящий статистический тест**\n",
    "Для выбора нужного тесте воспользуемся алгоритмом выбора теста. Для этого ответим на следующие вопросы:\n",
    "* Какой тип у признаков 'Размер компании'? - Категориальный\n",
    "* Сколько сравниваемых групп?- 3\n",
    "* Проверяется ли независимость групп? - Да\n",
    "Для проверки нашей гипотезы можно использовать критерий хи-квадрат"
   ]
  },
  {
   "cell_type": "code",
   "execution_count": 45,
   "id": "b9958fac",
   "metadata": {},
   "outputs": [
    {
     "data": {
      "text/html": [
       "<div>\n",
       "<style scoped>\n",
       "    .dataframe tbody tr th:only-of-type {\n",
       "        vertical-align: middle;\n",
       "    }\n",
       "\n",
       "    .dataframe tbody tr th {\n",
       "        vertical-align: top;\n",
       "    }\n",
       "\n",
       "    .dataframe thead th {\n",
       "        text-align: right;\n",
       "    }\n",
       "</style>\n",
       "<table border=\"1\" class=\"dataframe\">\n",
       "  <thead>\n",
       "    <tr style=\"text-align: right;\">\n",
       "      <th>company_size</th>\n",
       "      <th>L</th>\n",
       "      <th>M</th>\n",
       "      <th>S</th>\n",
       "    </tr>\n",
       "    <tr>\n",
       "      <th>job_title</th>\n",
       "      <th></th>\n",
       "      <th></th>\n",
       "      <th></th>\n",
       "    </tr>\n",
       "  </thead>\n",
       "  <tbody>\n",
       "    <tr>\n",
       "      <th>Data Engineer</th>\n",
       "      <td>37</td>\n",
       "      <td>89</td>\n",
       "      <td>6</td>\n",
       "    </tr>\n",
       "    <tr>\n",
       "      <th>Data Scientist</th>\n",
       "      <td>45</td>\n",
       "      <td>77</td>\n",
       "      <td>21</td>\n",
       "    </tr>\n",
       "  </tbody>\n",
       "</table>\n",
       "</div>"
      ],
      "text/plain": [
       "company_size     L   M   S\n",
       "job_title                 \n",
       "Data Engineer   37  89   6\n",
       "Data Scientist  45  77  21"
      ]
     },
     "execution_count": 45,
     "metadata": {},
     "output_type": "execute_result"
    }
   ],
   "source": [
    "job_DS_DE = df.query(\"job_title in ['Data Scientist', 'Data Engineer']\")\n",
    "cross_tab = pd.crosstab(job_DS_DE['job_title'], job_DS_DE['company_size'])\n",
    "cross_tab"
   ]
  },
  {
   "cell_type": "code",
   "execution_count": 46,
   "id": "f8999cb3",
   "metadata": {},
   "outputs": [
    {
     "name": "stdout",
     "output_type": "stream",
     "text": [
      "p-value = 0.008\n",
      "p-value меньше, чем заданный уровень значимости 0.05.Отвергаем нулевую гипотезу в пользу альтернативной\n"
     ]
    }
   ],
   "source": [
    "# Проводим тест\n",
    "_, p, _, _, = stats.chi2_contingency(cross_tab)\n",
    "decision_hypothesis(p)"
   ]
  },
  {
   "cell_type": "markdown",
   "id": "1783edc4",
   "metadata": {},
   "source": [
    "**Вывод:** между наличием должностей Data Scientist, Data Engineer и размером компании есть связь"
   ]
  },
  {
   "cell_type": "markdown",
   "id": "698d325e",
   "metadata": {},
   "source": [
    "## Итоговые результаты исследования\n",
    "\n",
    "* Зарплаты увеличиваются ежегодно для специалистов Data Scientists\n",
    "* Медианные зарплаты для DS и  DE равны\n",
    "* Между размером компании и зарплатой специалистов DS есть связь\n",
    "* Между наличием должностей Data Scientist, Data Engineer и размером компании есть связь"
   ]
  }
 ],
 "metadata": {
  "kernelspec": {
   "display_name": "Python 3",
   "language": "python",
   "name": "python3"
  },
  "language_info": {
   "codemirror_mode": {
    "name": "ipython",
    "version": 3
   },
   "file_extension": ".py",
   "mimetype": "text/x-python",
   "name": "python",
   "nbconvert_exporter": "python",
   "pygments_lexer": "ipython3",
   "version": "3.13.5"
  }
 },
 "nbformat": 4,
 "nbformat_minor": 5
}
